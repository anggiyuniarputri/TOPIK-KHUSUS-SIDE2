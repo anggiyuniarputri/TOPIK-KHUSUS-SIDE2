{
 "cells": [
  {
   "cell_type": "code",
   "execution_count": 2,
   "metadata": {},
   "outputs": [],
   "source": [
    "import pandas\n",
    "import os\n",
    "from nltk import pos_tag, word_tokenize\n",
    "from nltk.corpus import sentiwordnet as swn"
   ]
  },
  {
   "cell_type": "code",
   "execution_count": 2,
   "metadata": {},
   "outputs": [],
   "source": [
    "def get_word_score(word):\n",
    "    score = 0\n",
    "    score_positive = 0\n",
    "    score_negative = 0\n",
    "    senti = list(swn.senti_synsets(word))\n",
    "    if(len(senti) > 0):\n",
    "        for s in senti:\n",
    "            score_positive += s.pos_score()\n",
    "            score_negative += s.neg_score()\n",
    "        score_positive /= len(senti)\n",
    "        score_negative /= len(senti)\n",
    "        score = score_positive - score_negative\n",
    "    return score"
   ]
  },
  {
   "cell_type": "code",
   "execution_count": 3,
   "metadata": {},
   "outputs": [],
   "source": [
    "def word_is_registered(array, word):\n",
    "    for a in array:\n",
    "        if(a == word):\n",
    "            return True\n",
    "        \n",
    "    return False"
   ]
  },
  {
   "cell_type": "code",
   "execution_count": 4,
   "metadata": {},
   "outputs": [],
   "source": [
    "def scoring_data(data):\n",
    "    hasil = {}\n",
    "    hasil['score'] = {}\n",
    "    hasil['words'] = []\n",
    "    \n",
    "    for data in data[0]:\n",
    "        text = word_tokenize(data)\n",
    "        postag = pos_tag(text)\n",
    "        \n",
    "        #ambil NN, RB, JJ\n",
    "        noun = []\n",
    "        word_score = 0\n",
    "        for tagged in postag:\n",
    "            if(tagged[1] == 'NN'):\n",
    "                noun.append(tagged[0])\n",
    "            else:\n",
    "                if((tagged[1] == 'RB') or (tagged[1] == 'JJ') or (tagged[1] == 'VBD') or (tagged[1] == 'VBN') or (tagged[1] == 'VB')):\n",
    "                    word_score += get_word_score(tagged[0])\n",
    "        for word in noun:\n",
    "            if(word_is_registered(hasil['words'], word) == False):\n",
    "                hasil['words'].append(word)\n",
    "            try:\n",
    "                hasil['score'][word] += word_score\n",
    "            except:\n",
    "                hasil['score'][word] = word_score\n",
    "    \n",
    "    return hasil"
   ]
  },
  {
   "cell_type": "code",
   "execution_count": 5,
   "metadata": {},
   "outputs": [],
   "source": [
    "def sorting_data(scores, labels, word_score):\n",
    "    hasil = {}\n",
    "    hasil['words'] = []\n",
    "    hasil['scores'] = []\n",
    "    hasil['labels'] = []\n",
    "    \n",
    "    #positive\n",
    "    i = 0\n",
    "    for word in word_score['words']:\n",
    "        if(labels[i] == 'Positive'):\n",
    "            hasil['words'].append(word)\n",
    "            hasil['scores'].append(scores[i])\n",
    "            hasil['labels'].append(labels[i])\n",
    "        i += 1\n",
    "        \n",
    "    #negative\n",
    "    i = 0\n",
    "    for word in word_score['words']:\n",
    "        if(labels[i] == 'Negative'):\n",
    "            hasil['words'].append(word)\n",
    "            hasil['scores'].append(scores[i])\n",
    "            hasil['labels'].append(labels[i])\n",
    "        i += 1\n",
    "        \n",
    "    return hasil"
   ]
  },
  {
   "cell_type": "code",
   "execution_count": 6,
   "metadata": {},
   "outputs": [],
   "source": [
    "data = pandas.read_excel(os.getcwd() +'/Dataset-Canon-S100-Reanotasi.xlsx', header=None)\n",
    "\n",
    "word_score = scoring_data(data)\n",
    "\n",
    "scores = []\n",
    "labels = []\n",
    "for word in word_score['words']:\n",
    "    scores.append(word_score['score'][word])\n",
    "    label = '-'\n",
    "    if(word_score['score'][word] < 0):\n",
    "        label = 'Negative'\n",
    "    else:\n",
    "        label = 'Positive'\n",
    "    labels.append(label)\n",
    "    \n",
    "sorted_data = sorting_data(scores, labels, word_score)\n",
    "    \n",
    "#Export to Excel\n",
    "raw_data = {'Word': sorted_data['words'],\n",
    "           'Score': sorted_data['scores'],\n",
    "           'Label': sorted_data['labels']}\n",
    "df = pandas.DataFrame(raw_data, columns=['Word', 'Score', 'Label'])\n",
    "df.to_excel(os.getcwd() +'/word_score.xlsx', sheet_name='Sheet1', index=False)"
   ]
  },
  {
   "cell_type": "code",
   "execution_count": 11,
   "metadata": {},
   "outputs": [
    {
     "name": "stdout",
     "output_type": "stream",
     "text": [
      "[SentiSynset('dislocation.n.02'), SentiSynset('breakdown.n.02'), SentiSynset('breakdown.n.03'), SentiSynset('breakdown.n.04')]\n",
      "\n",
      "<dislocation.n.02: PosScore=0.0 NegScore=0.0>\n",
      "0.0\n",
      "0.0\n",
      "1.0\n",
      "\n",
      "<breakdown.n.02: PosScore=0.125 NegScore=0.5>\n",
      "0.125\n",
      "0.5\n",
      "0.375\n",
      "\n",
      "<breakdown.n.03: PosScore=0.0 NegScore=0.25>\n",
      "0.0\n",
      "0.25\n",
      "0.75\n",
      "\n",
      "<breakdown.n.04: PosScore=0.0 NegScore=0.0>\n",
      "0.0\n",
      "0.0\n",
      "1.0\n",
      "\n"
     ]
    }
   ],
   "source": [
    "senti = list(swn.senti_synsets('breakdown'))\n",
    "print(senti)\n",
    "\n",
    "#ini cuma ngoutputin buat ngejelasin\n",
    "print('')\n",
    "for s in senti:\n",
    "    print(s)\n",
    "    print(s.pos_score())\n",
    "    print(s.neg_score())\n",
    "    print(s.obj_score())\n",
    "    print('')"
   ]
  },
  {
   "cell_type": "code",
   "execution_count": null,
   "metadata": {},
   "outputs": [],
   "source": []
  }
 ],
 "metadata": {
  "kernelspec": {
   "display_name": "Python 3",
   "language": "python",
   "name": "python3"
  },
  "language_info": {
   "codemirror_mode": {
    "name": "ipython",
    "version": 3
   },
   "file_extension": ".py",
   "mimetype": "text/x-python",
   "name": "python",
   "nbconvert_exporter": "python",
   "pygments_lexer": "ipython3",
   "version": "3.7.1"
  }
 },
 "nbformat": 4,
 "nbformat_minor": 2
}
