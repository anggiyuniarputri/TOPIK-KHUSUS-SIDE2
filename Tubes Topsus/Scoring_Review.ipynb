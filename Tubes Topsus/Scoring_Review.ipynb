{
 "cells": [
  {
   "cell_type": "code",
   "execution_count": 1,
   "metadata": {},
   "outputs": [],
   "source": [
    "import pandas\n",
    "import os\n",
    "from nltk import pos_tag, word_tokenize\n",
    "from nltk.corpus import sentiwordnet as swn"
   ]
  },
  {
   "cell_type": "code",
   "execution_count": 2,
   "metadata": {},
   "outputs": [],
   "source": [
    "word_score = {}\n",
    "data_word_score = pandas.read_excel(os.getcwd() +'/word_score.xlsx')\n",
    "\n",
    "for i in range(0, len(data_word_score)):\n",
    "    word_score[data_word_score['Word'][i]] = data_word_score['Score'][i]"
   ]
  },
  {
   "cell_type": "code",
   "execution_count": 3,
   "metadata": {},
   "outputs": [],
   "source": [
    "data_review = pandas.read_excel(os.getcwd() +'/Dataset-Canon-S100-Reanotasi.xlsx', header=None)\n",
    "\n",
    "scores = []\n",
    "labels = []\n",
    "for data in data_review[0]:\n",
    "    text = word_tokenize(data)\n",
    "    postag = pos_tag(text)\n",
    "    \n",
    "    score = 0\n",
    "    for word in postag:\n",
    "        try:\n",
    "            score += word_score[word[0]]\n",
    "        except:\n",
    "            score += 0\n",
    "    scores.append(score)\n",
    "    \n",
    "    if(score < 0):\n",
    "        labels.append('Negative')\n",
    "    else:\n",
    "        labels.append('Positive')\n",
    "        \n",
    "#Export to Excel\n",
    "raw_data = {'Review': data_review[0],\n",
    "           'Score': scores,\n",
    "           'Label': labels}\n",
    "df = pandas.DataFrame(raw_data, columns=['Review', 'Score', 'Label'])\n",
    "df.to_excel(os.getcwd() +'/review_score.xlsx', sheet_name='Sheet1', index=False)"
   ]
  },
  {
   "cell_type": "code",
   "execution_count": null,
   "metadata": {},
   "outputs": [],
   "source": []
  }
 ],
 "metadata": {
  "kernelspec": {
   "display_name": "Python 3",
   "language": "python",
   "name": "python3"
  },
  "language_info": {
   "codemirror_mode": {
    "name": "ipython",
    "version": 3
   },
   "file_extension": ".py",
   "mimetype": "text/x-python",
   "name": "python",
   "nbconvert_exporter": "python",
   "pygments_lexer": "ipython3",
   "version": "3.7.1"
  }
 },
 "nbformat": 4,
 "nbformat_minor": 2
}
